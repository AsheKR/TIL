{
 "cells": [
  {
   "cell_type": "code",
   "execution_count": null,
   "metadata": {},
   "outputs": [],
   "source": [
    "from unittest import TestCase\n",
    "\n",
    "class SortTest(TestCase):\n",
    "    \n",
    "    def __init__(self, function):\n",
    "        super().__init__()\n",
    "        self.testcase1 = [1, 5, 4, 1, 20, 90, 6, 84, 10]\n",
    "        self.testcase2 = [5, 9, 6, 1, 2, 8, 4, 7, 3]\n",
    "        self.sort_function = function\n",
    "        self.test()\n",
    "        \n",
    "    def test(self):\n",
    "        self.assertEqual(sorted(self.testcase1), self.sort_function(self.testcase1))\n",
    "        self.assertEqual(sorted(self.testcase2), self.sort_function(self.testcase2))\n",
    "        print(\"Success\")"
   ]
  },
  {
   "cell_type": "code",
   "execution_count": null,
   "metadata": {},
   "outputs": [],
   "source": [
    "def quick_sort(ar):\n",
    "    def _quick_sort(ar, start, end):\n",
    "        if start >= end:\n",
    "            return\n",
    "        \n",
    "        pivot = start\n",
    "        i = start + 1\n",
    "        j = end\n",
    "        \n",
    "        while i <= j:\n",
    "            \n",
    "            while i <= end and ar[pivot] >= ar[i]:\n",
    "                i += 1\n",
    "                \n",
    "            while j >= start + 1 and ar[pivot] <= ar[j]:\n",
    "                j -= 1\n",
    "                \n",
    "            if i > j:\n",
    "                ar[pivot], ar[j] = ar[j], ar[pivot]\n",
    "            else:\n",
    "                ar[j], ar[i] = ar[i], ar[j]\n",
    "                \n",
    "        _quick_sort(ar, start, j - 1)\n",
    "        _quick_sort(ar , j + 1, end)\n",
    "        \n",
    "    _quick_sort(ar, 0, len(ar) - 1)\n",
    "    return ar"
   ]
  },
  {
   "cell_type": "code",
   "execution_count": null,
   "metadata": {},
   "outputs": [],
   "source": [
    "SortTest(quick_sort)"
   ]
  },
  {
   "cell_type": "code",
   "execution_count": null,
   "metadata": {},
   "outputs": [],
   "source": [
    "def qsort(ar):\n",
    "    if len(ar) <= 1:\n",
    "        return ar\n",
    "    \n",
    "    pivot = ar[0]\n",
    "    \n",
    "    head = qsort([elem for elem in ar if elem < pivot])\n",
    "    tail = qsort([elem for elem in ar if elem > pivot])\n",
    "    \n",
    "    return head + [elem for elem in ar if elem == pivot] + tail"
   ]
  },
  {
   "cell_type": "code",
   "execution_count": null,
   "metadata": {},
   "outputs": [],
   "source": [
    "SortTest(qsort)"
   ]
  },
  {
   "cell_type": "code",
   "execution_count": null,
   "metadata": {},
   "outputs": [],
   "source": [
    "def merge(left, right):\n",
    "    i, j = 0, 0\n",
    "    sorted_list = []\n",
    "    \n",
    "    while i < len(left) and j < len(right):\n",
    "        \n",
    "        if left[i] < right[j]:\n",
    "            sorted_list.append(left[i])\n",
    "            i += 1\n",
    "        else:\n",
    "            sorted_list.append(right[j])\n",
    "            j += 1\n",
    "            \n",
    "    while i < len(left):\n",
    "        sorted_list.append(left[i])\n",
    "        i += 1\n",
    "        \n",
    "    while j < len(right):\n",
    "        sorted_list.append(right[j])\n",
    "        j += 1\n",
    "        \n",
    "    return sorted_list\n",
    "    \n",
    "def merge_sort(ar):\n",
    "    if len(ar) <= 1:\n",
    "        return ar\n",
    "    \n",
    "    middle = len(ar) // 2\n",
    "    \n",
    "    left, right = merge_sort(ar[:middle]), merge_sort(ar[middle:])\n",
    "    \n",
    "    return merge(left, right)"
   ]
  },
  {
   "cell_type": "code",
   "execution_count": null,
   "metadata": {},
   "outputs": [],
   "source": [
    "SortTest(merge_sort)"
   ]
  },
  {
   "cell_type": "code",
   "execution_count": null,
   "metadata": {},
   "outputs": [],
   "source": [
    "def bottom_up_heapify(ar, child):\n",
    "    if child == 0:\n",
    "        return\n",
    "    \n",
    "    root = (child - 1) // 2\n",
    "    \n",
    "    if ar[root] < ar[child]:\n",
    "        ar[root], ar[child] = ar[child], ar[root]\n",
    "    \n",
    "    bottom_up_heapify(ar, root)\n",
    "\n",
    "def top_down_heapify(ar, root, end=None):\n",
    "    if end == None:\n",
    "        end = len(ar)\n",
    "\n",
    "    n = len(ar) / 2 - 1\n",
    "    if n < root:\n",
    "        return\n",
    "    \n",
    "    child = root * 2 + 1\n",
    "    \n",
    "    if end <= child + 1:\n",
    "        return\n",
    "    \n",
    "    if child < len(ar) - 2 and ar[child] < ar [child + 1]:\n",
    "        child += 1\n",
    "        \n",
    "    if ar[child] > ar[root]:\n",
    "        ar[child], ar[root] = ar[root], ar[child]\n",
    "        \n",
    "    top_down_heapify(ar, child, end)\n",
    "    \n",
    "\n",
    "def heap_sort(ar):\n",
    "    for i in range(1, len(ar)):\n",
    "        bottom_up_heapify(ar, i)\n",
    "    \n",
    "    for i in range(len(ar) - 1, -1, -1):\n",
    "        ar[0], ar[i] = ar[i], ar[0]\n",
    "        top_down_heapify(ar, 0, i)\n",
    "    \n",
    "    return ar"
   ]
  },
  {
   "cell_type": "code",
   "execution_count": null,
   "metadata": {},
   "outputs": [],
   "source": [
    "SortTest(heap_sort)"
   ]
  },
  {
   "cell_type": "markdown",
   "metadata": {},
   "source": [
    "# 문제"
   ]
  },
  {
   "cell_type": "markdown",
   "metadata": {},
   "source": [
    "## 문자열 정렬"
   ]
  },
  {
   "cell_type": "markdown",
   "metadata": {},
   "source": [
    "알파벳 소문자로 이루어진 N개의 단어가 들어오면 아래와 같은 조건에 따라 정렬하는 프로그램을 작성하시오.\n",
    "\n",
    "1. 길이가 짧은 것부터\n",
    "2. 길이가 같으면 사전 순으로"
   ]
  },
  {
   "cell_type": "code",
   "execution_count": null,
   "metadata": {},
   "outputs": [],
   "source": [
    "import functools\n",
    "\n",
    "my_list = []\n",
    "n = int(input(''))\n",
    "for i in range(n):\n",
    "    my_list.append(input(''))\n",
    "\n",
    "def compare(item1, item2):\n",
    "    if len(item1) < len(item2):\n",
    "        return -1\n",
    "    elif len(item1) > len(item2):\n",
    "        return 1\n",
    "    else:\n",
    "        return -1 if item1 < item2 else 1\n",
    "    \n",
    "mylist = sorted(my_list, key=functools.cmp_to_key(compare))\n",
    "for i in range(len(mylist)):\n",
    "    if i > 0 and mylist[i] == mylist[i - 1]:\n",
    "        continue\n",
    "    print(mylist[i])"
   ]
  },
  {
   "cell_type": "code",
   "execution_count": null,
   "metadata": {},
   "outputs": [],
   "source": [
    "read = input\n",
    "\n",
    "bucket = [set() for _ in range(50)]\n",
    "\n",
    "for i in range(int(read(''))):\n",
    "    word = read('')\n",
    "    bucket[len(word)].add(word)\n",
    "    \n",
    "\n",
    "for x in bucket:\n",
    "    for y in sorted(x):\n",
    "        print(y)"
   ]
  },
  {
   "cell_type": "markdown",
   "metadata": {},
   "source": [
    "## 시리얼 번호\n",
    "기타는 각각 다른 리얼 번호를 가지고 있다. 기타를 빨리 찾기위해 시리얼번호 순으로 정렬하고자한다.\n",
    "A-Z, 0-9로 이루어져있다.\n",
    "\n",
    "정렬 기준은 다음과 같다.\n",
    "1. 길이가 다르면 짧은것이 먼저\n",
    "2. 길이가 같다면 각각 기타에 포함된 시리얼번호의 숫자를 더해 작은 것이 먼저옴\n",
    "3. 만약 1,2번 조건으로 안되면 사전순 비교\n",
    "\n",
    "### 입력\n",
    "\n",
    "첫줄에 N (N <= 1000)\n",
    "둘째줄부터 시리얼번호가 하나씩 주어짐\n",
    "시리얼 번호의 최대 길이는 50, 중복 없음"
   ]
  },
  {
   "cell_type": "code",
   "execution_count": null,
   "metadata": {},
   "outputs": [],
   "source": [
    "import functools\n",
    "\n",
    "read = input\n",
    "\n",
    "l = []\n",
    "n = int(read(''))\n",
    "\n",
    "def getSum(s):\n",
    "    v = 0\n",
    "    for i in s:\n",
    "        if i.isdigit():\n",
    "            v += int(i)\n",
    "            \n",
    "    return v\n",
    "\n",
    "def compare(a, b):\n",
    "    if len(a) <  len(b):\n",
    "        return -1\n",
    "    elif len(a) > len(b):\n",
    "        return 1\n",
    "    else:\n",
    "        if getSum(a) < getSum(b):\n",
    "            return -1\n",
    "        elif getSum(a) > getSum(b):\n",
    "            return 1\n",
    "        return -1 if a < b else 1\n",
    "    \n",
    "for i in range(n):\n",
    "    l.append(read(''))\n",
    "    \n",
    "for i in sorted(l, key=functools.cmp_to_key(compare)):\n",
    "    print(i)"
   ]
  },
  {
   "cell_type": "code",
   "execution_count": null,
   "metadata": {},
   "outputs": [],
   "source": [
    "read = input\n",
    "n = int(input())\n",
    "l = []\n",
    "for i in range(n):\n",
    "    word = read('')\n",
    "    s = 0\n",
    "    for j in word:\n",
    "        try:\n",
    "            s += int(j)\n",
    "        except:\n",
    "            pass\n",
    "    l.append((len(word), s, word))\n",
    "l.sort()\n",
    "for i in l:\n",
    "    print(i[2])"
   ]
  },
  {
   "cell_type": "markdown",
   "metadata": {},
   "source": [
    "## 수 정렬하기\n",
    "\n",
    "첫줄에 N (1 < N < 10,000,000)\n",
    "둘째줄부터 N개의 줄에 숫자가 주어진다.\n",
    "이 수는 10,000보다 작거나 같은 자연수이다."
   ]
  },
  {
   "cell_type": "code",
   "execution_count": null,
   "metadata": {},
   "outputs": [],
   "source": [
    "import sys\n",
    "N = int(input())\n",
    "series = [0] * 10000\n",
    "\n",
    "for i in range(N):\n",
    "    a = int(sys.stdin.readline())\n",
    "    series[a] = series[a] + 1\n",
    "\n",
    "for b in range(len(series)):\n",
    "    if series[b] !=0:\n",
    "        for c in range(series[b]):\n",
    "            print(b)"
   ]
  },
  {
   "cell_type": "markdown",
   "metadata": {},
   "source": [
    "# BFS"
   ]
  },
  {
   "cell_type": "code",
   "execution_count": null,
   "metadata": {},
   "outputs": [],
   "source": [
    "graph = {\n",
    "    '1': ['2', '3'],\n",
    "    '2': ['1', '3', '4', '5'],\n",
    "    '3': ['1', '2', '6', '7'],\n",
    "    '4': ['2', '5'],\n",
    "    '5': ['2', '4'],\n",
    "    '6': ['3', '7'],\n",
    "    '7': ['3', '6'],\n",
    "}\n",
    "\n",
    "def bfs(graph, start):\n",
    "    visited = []\n",
    "    queue = [start]\n",
    "    \n",
    "    while queue:\n",
    "        n = queue.pop(0)\n",
    "        visited.append(n)\n",
    "\n",
    "        for i in graph[n]:\n",
    "            if i not in visited and i not in queue:\n",
    "                queue.append(i)\n",
    "                \n",
    "    return visited\n",
    "\n",
    "bfs(graph, '1')"
   ]
  },
  {
   "cell_type": "markdown",
   "metadata": {},
   "source": [
    "## 두 노드간 경로 탐색"
   ]
  },
  {
   "cell_type": "code",
   "execution_count": null,
   "metadata": {},
   "outputs": [],
   "source": [
    "graph = {\n",
    "    '1': ['2', '3'],\n",
    "    '2': ['1', '3', '4', '5'],\n",
    "    '3': ['1', '2', '6', '7'],\n",
    "    '4': ['2', '5'],\n",
    "    '5': ['2', '4'],\n",
    "    '6': ['3', '7'],\n",
    "    '7': ['3', '6'],\n",
    "}\n",
    "\n",
    "def bfs_paths(graph, start, goal):\n",
    "    queue = [(start, [start])]\n",
    "    result = []\n",
    "\n",
    "    while queue:\n",
    "        n, path = queue.pop(0)\n",
    "        if n == goal:\n",
    "            result.append(path)\n",
    "        else:\n",
    "            for m in set(graph[n]) - set(path):\n",
    "                queue.append((m, path + [m]))\n",
    "    return result\n",
    "\n",
    "bfs_paths(graph, '1', '7')"
   ]
  },
  {
   "cell_type": "markdown",
   "metadata": {},
   "source": [
    "# DFS"
   ]
  },
  {
   "cell_type": "code",
   "execution_count": 8,
   "metadata": {},
   "outputs": [
    {
     "name": "stdout",
     "output_type": "stream",
     "text": [
      "['1', '2', '3', '6', '7', '4', '5']\n"
     ]
    }
   ],
   "source": [
    "graph = {\n",
    "    '1': ['2', '3'],\n",
    "    '2': ['1', '3', '4', '5'],\n",
    "    '3': ['1', '2', '6', '7'],\n",
    "    '4': ['2', '5'],\n",
    "    '5': ['2', '4'],\n",
    "    '6': ['3', '7'],\n",
    "    '7': ['3', '6'],\n",
    "}\n",
    "\n",
    "visited = []\n",
    "\n",
    "def dfs(graph, node, visited):\n",
    "    if node not in visited:\n",
    "        visited.append(node)\n",
    "        for n in graph[node]:\n",
    "            dfs(graph,n, visited)\n",
    "    return visited\n",
    "\n",
    "visited = dfs(graph,'1', [])\n",
    "print(visited)"
   ]
  },
  {
   "cell_type": "code",
   "execution_count": null,
   "metadata": {},
   "outputs": [],
   "source": []
  }
 ],
 "metadata": {
  "kernelspec": {
   "display_name": "Python 3",
   "language": "python",
   "name": "python3"
  },
  "language_info": {
   "codemirror_mode": {
    "name": "ipython",
    "version": 3
   },
   "file_extension": ".py",
   "mimetype": "text/x-python",
   "name": "python",
   "nbconvert_exporter": "python",
   "pygments_lexer": "ipython3",
   "version": "3.7.0"
  }
 },
 "nbformat": 4,
 "nbformat_minor": 2
}
