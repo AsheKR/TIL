{
 "cells": [
  {
   "cell_type": "code",
   "execution_count": 1,
   "metadata": {},
   "outputs": [],
   "source": [
    "from unittest import TestCase\n",
    "\n",
    "class SortTest(TestCase):\n",
    "    def __init__(self, function):\n",
    "        super().__init__()\n",
    "        self.testcase1 = [1, 5, 4, 1, 20, 90, 6, 84, 10]\n",
    "        self.testcase2 = [5, 9, 6, 1, 2, 8, 4, 7, 3]\n",
    "        self.sort_function = function\n",
    "        self.test()\n",
    "        \n",
    "    def test(self):\n",
    "        self.assertEqual(sorted(self.testcase1), self.sort_function(self.testcase1))\n",
    "        self.assertEqual(sorted(self.testcase2), self.sort_function(self.testcase2))\n",
    "        print(\"Success\")"
   ]
  },
  {
   "cell_type": "code",
   "execution_count": 12,
   "metadata": {},
   "outputs": [],
   "source": [
    "def quick_sort(ar):\n",
    "    def _quick_sort(ar, start, end):\n",
    "        if start >= end:\n",
    "            return\n",
    "        \n",
    "        pivot = start\n",
    "        i = start + 1\n",
    "        j = end\n",
    "        \n",
    "        while i <= j:\n",
    "            \n",
    "            while i <= end and ar[i] <= ar[pivot]:\n",
    "                i += 1\n",
    "            \n",
    "            while j >= start + 1 and ar[j] >= ar[pivot]:\n",
    "                j -= 1\n",
    "        \n",
    "            if i > j:\n",
    "                ar[pivot], ar[j] = ar[j], ar[pivot]\n",
    "            else:\n",
    "                ar[i], ar[j] = ar[j], ar[i]\n",
    "        \n",
    "        _quick_sort(ar, start, j - 1)\n",
    "        _quick_sort(ar, j + 1, end)\n",
    "        \n",
    "        \n",
    "    _quick_sort(ar, 0, len(ar) - 1)\n",
    "    return ar"
   ]
  },
  {
   "cell_type": "code",
   "execution_count": 13,
   "metadata": {},
   "outputs": [
    {
     "name": "stdout",
     "output_type": "stream",
     "text": [
      "Success\n"
     ]
    },
    {
     "data": {
      "text/plain": [
       "<__main__.SortTest testMethod=runTest>"
      ]
     },
     "execution_count": 13,
     "metadata": {},
     "output_type": "execute_result"
    }
   ],
   "source": [
    "SortTest(quick_sort)"
   ]
  },
  {
   "cell_type": "code",
   "execution_count": 14,
   "metadata": {},
   "outputs": [],
   "source": [
    "def qsort(ar):\n",
    "    if not ar:\n",
    "        return ar\n",
    "    \n",
    "    pivot = ar[0]\n",
    "    \n",
    "    head = qsort([elem for elem in ar if elem < pivot])\n",
    "    tail = qsort([elem for elem in ar if elem > pivot])\n",
    "    \n",
    "    return head + [elem for elem in ar if elem == pivot] + tail"
   ]
  },
  {
   "cell_type": "code",
   "execution_count": 15,
   "metadata": {},
   "outputs": [
    {
     "name": "stdout",
     "output_type": "stream",
     "text": [
      "Success\n"
     ]
    },
    {
     "data": {
      "text/plain": [
       "<__main__.SortTest testMethod=runTest>"
      ]
     },
     "execution_count": 15,
     "metadata": {},
     "output_type": "execute_result"
    }
   ],
   "source": [
    "SortTest(qsort)"
   ]
  },
  {
   "cell_type": "code",
   "execution_count": 24,
   "metadata": {},
   "outputs": [],
   "source": [
    "def merge(ar):\n",
    "    if len(ar) <= 1:\n",
    "        return ar\n",
    "\n",
    "    middle = len(ar) // 2\n",
    "\n",
    "    left, right = merge(ar[:middle]), merge(ar[middle:])\n",
    "\n",
    "    return merge_sort(left, right)\n",
    "\n",
    "def merge_sort(left, right):\n",
    "    i, j = 0, 0\n",
    "    sorted_list = []\n",
    "    \n",
    "    while i < len(left) and j < len(right):\n",
    "        \n",
    "        if left[i] < right[j]:\n",
    "            sorted_list.append(left[i])\n",
    "            i += 1\n",
    "        else:\n",
    "            sorted_list.append(right[j])\n",
    "            j += 1\n",
    "            \n",
    "    while i < len(left):\n",
    "        sorted_list.append(left[i])\n",
    "        i += 1\n",
    "        \n",
    "    while j < len(right):\n",
    "        sorted_list.append(right[j])\n",
    "        j += 1\n",
    "        \n",
    "    return sorted_list"
   ]
  },
  {
   "cell_type": "code",
   "execution_count": 25,
   "metadata": {},
   "outputs": [
    {
     "name": "stdout",
     "output_type": "stream",
     "text": [
      "Success\n"
     ]
    },
    {
     "data": {
      "text/plain": [
       "<__main__.SortTest testMethod=runTest>"
      ]
     },
     "execution_count": 25,
     "metadata": {},
     "output_type": "execute_result"
    }
   ],
   "source": [
    "SortTest(merge)"
   ]
  },
  {
   "cell_type": "code",
   "execution_count": 49,
   "metadata": {},
   "outputs": [],
   "source": [
    "def heapify(i, ar):\n",
    "    if i == 0:\n",
    "        return\n",
    "    root = (i - 1) // 2\n",
    "    \n",
    "    if ar[i] > ar[root]:\n",
    "        ar[root], ar[i] = ar[i], ar[root]\n",
    "        \n",
    "    heapify(root, ar)\n",
    "    \n",
    "def heap_sort(ar):\n",
    "    for i in range(1, len(ar)):\n",
    "        heapify(i, ar)\n",
    "        \n",
    "    for i in range(len(ar) - 1, -1, -1):\n",
    "        ar[i], ar[0] = ar[0], ar[i]\n",
    "        root = 0\n",
    "        c = 1\n",
    "        \n",
    "        while c < i:\n",
    "            c = root * 2 + 1\n",
    "            \n",
    "            # i 가 오른쪽 값일 때 c가 i의 왼쪽값이면 안되므로\n",
    "            if c < i - 1 and ar[c] < ar[c + 1]:\n",
    "                c += 1\n",
    "            \n",
    "            if c < i and ar[root] < ar[c]:\n",
    "                ar[root], ar[c] = ar[c], ar[root]\n",
    "                \n",
    "            root = c\n",
    "\n",
    "    return ar"
   ]
  },
  {
   "cell_type": "code",
   "execution_count": 50,
   "metadata": {},
   "outputs": [
    {
     "data": {
      "text/plain": [
       "[2, 4, 6, 7, 8, 10, 50, 56]"
      ]
     },
     "execution_count": 50,
     "metadata": {},
     "output_type": "execute_result"
    }
   ],
   "source": [
    "heap_sort([2, 10, 56, 7, 6, 8, 50, 4])"
   ]
  },
  {
   "cell_type": "code",
   "execution_count": 2,
   "metadata": {},
   "outputs": [],
   "source": [
    "def quick_sort(ar):\n",
    "    def _quick_sort(ar, start, end):\n",
    "        if start >= end:\n",
    "            return\n",
    "        \n",
    "        pivot = start\n",
    "        i = start + 1\n",
    "        j = end\n",
    "        \n",
    "        while i <= j:\n",
    "            while i <= end and ar[i] <= ar[pivot]:\n",
    "                i += 1\n",
    "\n",
    "            while j >= start + 1 and ar[j] >= ar[pivot]:\n",
    "                j -= 1\n",
    "\n",
    "            if i > j:\n",
    "                ar[pivot], ar[j] = ar[j], ar[pivot]\n",
    "            else:\n",
    "                ar[i], ar[j] = ar[j], ar[i]\n",
    "        \n",
    "        _quick_sort(ar, start, j-1)\n",
    "        _quick_sort(ar, j+1, end)\n",
    "        \n",
    "    _quick_sort(ar, 0, len(ar) - 1)\n",
    "    return ar"
   ]
  },
  {
   "cell_type": "code",
   "execution_count": 3,
   "metadata": {},
   "outputs": [
    {
     "name": "stdout",
     "output_type": "stream",
     "text": [
      "Success\n"
     ]
    },
    {
     "data": {
      "text/plain": [
       "<__main__.SortTest testMethod=runTest>"
      ]
     },
     "execution_count": 3,
     "metadata": {},
     "output_type": "execute_result"
    }
   ],
   "source": [
    "SortTest(quick_sort)"
   ]
  },
  {
   "cell_type": "code",
   "execution_count": 6,
   "metadata": {},
   "outputs": [],
   "source": [
    "def merge(ar):\n",
    "    if len(ar) <= 1:\n",
    "        return ar\n",
    "    \n",
    "    mid = len(ar) // 2\n",
    "    \n",
    "    left, right = merge(ar[:mid]), merge(ar[mid:])\n",
    "    \n",
    "    return merge_sort(left, right)\n",
    "\n",
    "def merge_sort(left, right):\n",
    "    i, j = 0, 0\n",
    "    sorted_list = []\n",
    "    \n",
    "    while i < len(left) and j < len(right):\n",
    "        \n",
    "        if left[i] < right[j]:\n",
    "            sorted_list.append(left[i])\n",
    "            i += 1\n",
    "        else:\n",
    "            sorted_list.append(right[j])\n",
    "            j += 1\n",
    "            \n",
    "    while i < len(left):\n",
    "        sorted_list.append(left[i])\n",
    "        i += 1\n",
    "        \n",
    "    while j < len(right):\n",
    "        sorted_list.append(right[j])\n",
    "        j += 1\n",
    "        \n",
    "    return sorted_list"
   ]
  },
  {
   "cell_type": "code",
   "execution_count": 7,
   "metadata": {},
   "outputs": [
    {
     "name": "stdout",
     "output_type": "stream",
     "text": [
      "Success\n"
     ]
    },
    {
     "data": {
      "text/plain": [
       "<__main__.SortTest testMethod=runTest>"
      ]
     },
     "execution_count": 7,
     "metadata": {},
     "output_type": "execute_result"
    }
   ],
   "source": [
    "SortTest(merge)"
   ]
  },
  {
   "cell_type": "code",
   "execution_count": 60,
   "metadata": {},
   "outputs": [
    {
     "name": "stdout",
     "output_type": "stream",
     "text": [
      "[61, 48, 59, 26, 19, 11, 37, 15, 1, 5]\n",
      "[5, 19, 11, 15, 1, 37, 26, 48, 59, 61]\n"
     ]
    }
   ],
   "source": [
    "def heapify(root, ar, end=len(ar)):\n",
    "    n = len(ar) / 2 - 1\n",
    "    # 전체 배열에서 자식 노드만 포함한 노드만을 heapify한다.\n",
    "    if n < root:\n",
    "        return\n",
    "    \n",
    "    child = root * 2 + 1\n",
    "    \n",
    "    if end <= child:\n",
    "        return\n",
    "    \n",
    "    if child < n and ar[child] < ar[child + 1]:\n",
    "        child += 1\n",
    "    \n",
    "    if ar[child] > ar[root]:\n",
    "        ar[child], ar[root] = ar[root], ar[child]\n",
    "        \n",
    "    heapify(child, ar, end)\n",
    "    \n",
    "    \n",
    "ar = [61, 48, 59, 26, 19, 11, 37, 15, 1, 5]\n",
    "\n",
    "def heap_sort(ar):\n",
    "    \n",
    "    for i in range((len(ar) - 1) // 2, -1, -1):\n",
    "        heapify(i, ar)\n",
    "    print(ar)\n",
    "    \n",
    "    for i in range(len(ar) - 1, -1, -1):\n",
    "        ar[i], ar[0] = ar[0], ar[i]\n",
    "        \n",
    "        heapify(0, ar, i)\n",
    "        \n",
    "heap_sort(ar)\n",
    "print(ar)"
   ]
  },
  {
   "cell_type": "code",
   "execution_count": null,
   "metadata": {},
   "outputs": [],
   "source": []
  },
  {
   "cell_type": "code",
   "execution_count": null,
   "metadata": {},
   "outputs": [],
   "source": []
  }
 ],
 "metadata": {
  "kernelspec": {
   "display_name": "Python 3",
   "language": "python",
   "name": "python3"
  },
  "language_info": {
   "codemirror_mode": {
    "name": "ipython",
    "version": 3
   },
   "file_extension": ".py",
   "mimetype": "text/x-python",
   "name": "python",
   "nbconvert_exporter": "python",
   "pygments_lexer": "ipython3",
   "version": "3.7.0"
  }
 },
 "nbformat": 4,
 "nbformat_minor": 2
}
