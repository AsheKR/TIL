{
 "cells": [
  {
   "cell_type": "markdown",
   "metadata": {},
   "source": [
    "# Recursive"
   ]
  },
  {
   "cell_type": "code",
   "execution_count": null,
   "metadata": {},
   "outputs": [],
   "source": [
    "# 0! = 1\n",
    "# n! = n + (n-1)!, n> 0\n",
    "\n",
    "def factorial(n):\n",
    "    if n == 0:\n",
    "        return 1\n",
    "    \n",
    "    return n * factorial(n - 1)"
   ]
  },
  {
   "cell_type": "markdown",
   "metadata": {},
   "source": [
    "factorial(4)"
   ]
  },
  {
   "cell_type": "code",
   "execution_count": null,
   "metadata": {},
   "outputs": [],
   "source": [
    "# X의 0승은 = 1\n",
    "# X의 n승은 = x * x의 n-1승\n",
    "\n",
    "def power(x, n):\n",
    "    if n == 0:\n",
    "        return 1\n",
    "    return x * power(x, n-1)"
   ]
  },
  {
   "cell_type": "code",
   "execution_count": null,
   "metadata": {},
   "outputs": [],
   "source": [
    "def fibo(n):\n",
    "    if n < 2:\n",
    "        return 1\n",
    "    return fibo(n-1) + fibo(n-2)"
   ]
  },
  {
   "cell_type": "code",
   "execution_count": null,
   "metadata": {},
   "outputs": [],
   "source": [
    "def gcd(m, n):\n",
    "    if (m < n):\n",
    "        m, n = n, m\n",
    "        \n",
    "    if m% n == 0:\n",
    "        return n\n",
    "    \n",
    "    return gcd(n, m%n)"
   ]
  },
  {
   "cell_type": "code",
   "execution_count": null,
   "metadata": {},
   "outputs": [],
   "source": [
    "gcd(10, 25)"
   ]
  },
  {
   "cell_type": "code",
   "execution_count": null,
   "metadata": {},
   "outputs": [],
   "source": [
    "def stringlength(str1):\n",
    "    if not str1:\n",
    "        return 0;\n",
    "    \n",
    "    return 1 + stringlength(str1[:-1])"
   ]
  },
  {
   "cell_type": "code",
   "execution_count": null,
   "metadata": {},
   "outputs": [],
   "source": [
    "stringlength('hello')"
   ]
  },
  {
   "cell_type": "code",
   "execution_count": null,
   "metadata": {},
   "outputs": [],
   "source": [
    "# str1이 비어있으면 ''을 반환\n",
    "# str1의 문자 첫 문자를 출력 후 순환에 해당 출력문자를 제외한 모두를 보냄\n",
    "\n",
    "def printstring(str1):\n",
    "    if not str1:\n",
    "        return ''\n",
    "    \n",
    "    print(str1[0])\n",
    "    printstring(str1[1:])"
   ]
  },
  {
   "cell_type": "code",
   "execution_count": null,
   "metadata": {},
   "outputs": [],
   "source": [
    "prtintstring('hello')"
   ]
  },
  {
   "cell_type": "code",
   "execution_count": null,
   "metadata": {},
   "outputs": [],
   "source": [
    "# 문자를 거꾸로 출력\n",
    "# str1이 비어있으면 ''을 출력\n",
    "# str1을 Recursive하게 첫 문자를 제외하고 하나씩 들어가고 돌아올 때 출력\n",
    "\n",
    "def prtintstring2(str1):\n",
    "    if not str1:\n",
    "        return ''\n",
    "    \n",
    "    prtintstring2(str1[1:])\n",
    "    print(str1[0])"
   ]
  },
  {
   "cell_type": "code",
   "execution_count": null,
   "metadata": {},
   "outputs": [],
   "source": [
    "prtintstring2('hello')"
   ]
  },
  {
   "cell_type": "code",
   "execution_count": null,
   "metadata": {},
   "outputs": [],
   "source": [
    "# n을 2로 나누었을 때 2 이하면 출력\n",
    "# 아니면 나눠서 재귀 호출\n",
    "# 그리고 나머지 출력\n",
    "\n",
    "def printBinary(n):\n",
    "    if n < 2:\n",
    "        print(int(n))\n",
    "    else:\n",
    "        printBinary(n/2)\n",
    "        print(int(n%2))"
   ]
  },
  {
   "cell_type": "code",
   "execution_count": null,
   "metadata": {},
   "outputs": [],
   "source": [
    "printBinary(6)"
   ]
  },
  {
   "cell_type": "code",
   "execution_count": null,
   "metadata": {},
   "outputs": [],
   "source": [
    "# 배열의 합 구하기\n",
    "# 데이터 개수와 배열을 입력받음\n",
    "# 데이터 번째가 0 보다 작으면 0을 리턴\n",
    "# 그렇지 않으면 n-1번째까지의 데이터를 더한 후 n-1 번째 데이터를 더함\n",
    "\n",
    "def sum(n=5, data=[1, 2, 3, 4, 5]):\n",
    "    if n <= 0:\n",
    "        return 0\n",
    "    \n",
    "    return sum(n-1, data) + data[n-1]"
   ]
  },
  {
   "cell_type": "code",
   "execution_count": null,
   "metadata": {},
   "outputs": [],
   "source": [
    "sum()"
   ]
  },
  {
   "cell_type": "code",
   "execution_count": null,
   "metadata": {},
   "outputs": [],
   "source": [
    "def search(data, target):\n",
    "    for i in range(0, len(data)):\n",
    "        if (data[i] == target):\n",
    "            return i\n",
    "    return -1"
   ]
  },
  {
   "cell_type": "code",
   "execution_count": null,
   "metadata": {},
   "outputs": [],
   "source": [
    "search([1, 2, 3, 4, 5], 3)"
   ]
  },
  {
   "cell_type": "code",
   "execution_count": null,
   "metadata": {},
   "outputs": [],
   "source": [
    "def search_recursive(data, begin, end, target):\n",
    "    if begin > end:\n",
    "        return -1\n",
    "    elif target == data[end]:\n",
    "        return end\n",
    "    else:\n",
    "        return search_recursive(data, begin, end-1, target)"
   ]
  },
  {
   "cell_type": "code",
   "execution_count": null,
   "metadata": {},
   "outputs": [],
   "source": [
    "search_recursive([1, 2, 3, 4, 5], 0, 4, 5)"
   ]
  },
  {
   "cell_type": "code",
   "execution_count": null,
   "metadata": {},
   "outputs": [],
   "source": [
    "def find_max(data, begin, end):\n",
    "    if begin == end:\n",
    "        return data[begin]\n",
    "    else:\n",
    "        return max(data[begin], find_max(data, begin+1, end))"
   ]
  },
  {
   "cell_type": "code",
   "execution_count": null,
   "metadata": {},
   "outputs": [],
   "source": [
    "find_max([5, 2, 1, 3, 4], 0, 4)"
   ]
  },
  {
   "cell_type": "markdown",
   "metadata": {},
   "source": [
    "# Sort"
   ]
  },
  {
   "cell_type": "code",
   "execution_count": null,
   "metadata": {},
   "outputs": [],
   "source": [
    "def binary_search(data, target, begin, end):\n",
    "    if begin > end:\n",
    "        return -1\n",
    "    else:\n",
    "        middle = int((begin + end) / 2)\n",
    "        \n",
    "        if target == data[middle]:\n",
    "            return middle\n",
    "        elif target > data[middle]:\n",
    "            return binary_search(data, target, middle+1, end)\n",
    "        else:\n",
    "            return binary_search(data, target, begin, middle-1)"
   ]
  },
  {
   "cell_type": "code",
   "execution_count": null,
   "metadata": {},
   "outputs": [],
   "source": [
    "binary_search([1, 2, 3, 4, 5], 4, 0, 4)"
   ]
  },
  {
   "cell_type": "code",
   "execution_count": null,
   "metadata": {},
   "outputs": [],
   "source": [
    "from unittest import TestCase\n",
    "\n",
    "class SorTest(TestCase):\n",
    "    def __init__(self, function):\n",
    "        super().__init__()\n",
    "        self.testcase1 = [1, 5, 4, 1, 20, 90, 6, 84, 10]\n",
    "        self.testcase2 = [5, 9, 6, 1, 2, 8, 4, 7, 3]\n",
    "        self.sort_function = function\n",
    "        self.test()\n",
    "    \n",
    "    def test(self):\n",
    "        self.assertEqual(sorted(self.testcase1), self.sort_function(self.testcase1))\n",
    "        self.assertEqual(sorted(self.testcase2), self.sort_function(self.testcase2))"
   ]
  },
  {
   "cell_type": "code",
   "execution_count": null,
   "metadata": {},
   "outputs": [],
   "source": [
    "def selection_sort(arr1):\n",
    "    for i in range(0, len(arr1)-1):\n",
    "        min_idx = i\n",
    "        for j in range(i+1, len(arr1)):\n",
    "            if arr1[min_idx] > arr1[j]:\n",
    "                min_idx = j\n",
    "        arr1[min_idx], arr1[i] = arr1[i], arr1[min_idx]\n",
    "    print(arr1)\n",
    "    return arr1"
   ]
  },
  {
   "cell_type": "code",
   "execution_count": null,
   "metadata": {},
   "outputs": [],
   "source": [
    "SorTest(selection_sort)"
   ]
  },
  {
   "cell_type": "code",
   "execution_count": null,
   "metadata": {},
   "outputs": [],
   "source": [
    "def buble_sort(ar):\n",
    "    for i in range(0, len(ar) - 1):\n",
    "        for j in range(i+1, len(ar)):\n",
    "            if ar[i] > ar[j]:\n",
    "                ar[i], ar[j] = ar[j], ar[i]\n",
    "    \n",
    "    print(ar)\n",
    "    return ar"
   ]
  },
  {
   "cell_type": "code",
   "execution_count": null,
   "metadata": {},
   "outputs": [],
   "source": [
    "SorTest(buble_sort)"
   ]
  },
  {
   "cell_type": "code",
   "execution_count": null,
   "metadata": {},
   "outputs": [],
   "source": [
    "def insertion_sort(ar):\n",
    "    for i in range(1, len(ar)):\n",
    "        for j in range(0, i):\n",
    "            if ar[i] < ar[j]:\n",
    "                ar[i], ar[j] = ar[j], ar[i]\n",
    "    print(ar)\n",
    "    return ar"
   ]
  },
  {
   "cell_type": "code",
   "execution_count": null,
   "metadata": {},
   "outputs": [],
   "source": [
    "SorTest(insertion_sort)"
   ]
  },
  {
   "cell_type": "code",
   "execution_count": null,
   "metadata": {},
   "outputs": [],
   "source": [
    "def merge_sort(ar):\n",
    "    if len(ar) <= 1:\n",
    "        return ar\n",
    "    \n",
    "    mid = len(ar) // 2\n",
    "    \n",
    "    left, right = merge_sort(ar[:mid]), merge_sort(ar[mid:])\n",
    "    \n",
    "    return merge(left, right)\n",
    "\n",
    "def merge(left, right):\n",
    "    i, j = 0, 0\n",
    "    sorted_list = []\n",
    "    while i < len(left) and j < len(right):\n",
    "        if left[i] < right[j]:\n",
    "            sorted_list.append(left[i])\n",
    "            i += 1\n",
    "        else:\n",
    "            sorted_list.append(right[j])\n",
    "            j += 1\n",
    "            \n",
    "    while i < len(left):\n",
    "        sorted_list.append(left[i])\n",
    "        i += 1\n",
    "    while j < len(right):\n",
    "        sorted_list.append(right[j])\n",
    "        j += 1\n",
    "        \n",
    "    return sorted_list"
   ]
  },
  {
   "cell_type": "code",
   "execution_count": null,
   "metadata": {},
   "outputs": [],
   "source": [
    "def qsort(ar):\n",
    "    if not ar: return ar\n",
    "    pivot = ar[0]\n",
    "    \n",
    "    head = qsort([elem for elem in ar if pivot > elem])\n",
    "    tail = qsort([elem for elem in ar if pivot < elem])\n",
    "    return head + [elem for elem in ar if pivot == elem] + tail"
   ]
  },
  {
   "cell_type": "code",
   "execution_count": null,
   "metadata": {},
   "outputs": [],
   "source": [
    "SorTest(qsort)"
   ]
  },
  {
   "cell_type": "code",
   "execution_count": 25,
   "metadata": {},
   "outputs": [
    {
     "name": "stdout",
     "output_type": "stream",
     "text": [
      "[13, 11, 12, 5, 6, 7]\n"
     ]
    }
   ],
   "source": [
    "def heapify(arr, n, i): \n",
    "    largest = i # Initialize largest as root \n",
    "    l = 2 * i + 1     # left = 2*i + 1 \n",
    "    r = 2 * i + 2     # right = 2*i + 2 \n",
    "  \n",
    "    # See if left child of root exists and is \n",
    "    # greater than root \n",
    "    if l < n and arr[i] < arr[l]: \n",
    "        largest = l \n",
    "  \n",
    "    # See if right child of root exists and is \n",
    "    # greater than root \n",
    "    if r < n and arr[largest] < arr[r]: \n",
    "        largest = r \n",
    "  \n",
    "    # Change root, if needed \n",
    "    if largest != i: \n",
    "        arr[i],arr[largest] = arr[largest],arr[i] # swap \n",
    "  \n",
    "        # Heapify the root. \n",
    "        heapify(arr, n, largest) \n",
    "        \n",
    "# The main function to sort an array of given size \n",
    "def heapSort(arr): \n",
    "    n = len(arr) \n",
    "  \n",
    "    # Build a maxheap. \n",
    "    for i in range(n, -1, -1): \n",
    "        heapify(arr, n, i) \n",
    "  \n",
    "# Driver code to test above \n",
    "arr = [ 12, 11, 13, 5, 6, 7] \n",
    "heapSort(arr) \n",
    "print(arr)"
   ]
  },
  {
   "cell_type": "markdown",
   "metadata": {},
   "source": [
    "# Data Structure"
   ]
  },
  {
   "cell_type": "code",
   "execution_count": 1,
   "metadata": {},
   "outputs": [],
   "source": [
    "class SList:\n",
    "    class Node:\n",
    "        def __init__(self,item, link): # 노드 생성자\n",
    "            self.item = item           # 항목과 다음 노드 레퍼런스 \n",
    "            self.next = link\n",
    "                \n",
    "    def __init__(self):                # 단순연결리스트 생성자 \n",
    "        self.head = None               # head와 항목 수(size)로 구성 \n",
    "        self.size = 0\n",
    "        \n",
    "    def size(self):\n",
    "        return self.size\n",
    "    \n",
    "    def is_empty(self):\n",
    "        return self.size == 0\n",
    "        \n",
    "    def insert_front(self,item):\n",
    "        if self.is_empty():\n",
    "            self.head = self.Node(item,None) #head가 새 노드 참조 \n",
    "        \n",
    "        else:\n",
    "            self.head = self.Node(item,self.head)  #head가 새 노드 참조 \n",
    "        self.size += 1\n",
    "        # 여기서 원래 head뒤로는 똑같아서 변경안해줘도 된다. \n",
    "    \n",
    "    def insert_after(self,item,p):\n",
    "        p.next = self.Node(item,p.next)  ######? Slit.Node? \n",
    "        self.size += 1\n",
    "            \n",
    "    def delete_front(self):\n",
    "        if self.is_empty():                     # empty인 경우 에러 처리 \n",
    "            raise EmptyError('Underflow')\n",
    "        else:  \n",
    "            self.head = self.head.next   # head가 둘째 노드를 참조 \n",
    "            self.size -=1\n",
    "            \n",
    "    def delete_after(self,p):\n",
    "        if self.is_empty():\n",
    "            raise EmptyError('Underflow')\n",
    "        t = p.next\n",
    "        p.next = t.next                  # p 다음 노드를 건너뛰어 연결 \n",
    "        self.size -= 1 # 만약 p가 None이면 next도 None되는게 맞나 ? \n",
    "    \n",
    "    def search(self,target):\n",
    "        p = self.head                    # head로 부터 순차 탐색 \n",
    "        \n",
    "        for k in range(self.size):\n",
    "            if target == p.item:\n",
    "                return k                 # 탐색 성공시\n",
    "            p = p.next\n",
    "        return None                      # 탐색 실패시 \n",
    "        \n",
    "        \n",
    "    def print_list(self):\n",
    "        p = self.head\n",
    "        \n",
    "        while p:                         #리스트 맨 끝에선 None값이라 루프탈출 \n",
    "            if p.next!=None:\n",
    "                print(p.item, \"->\",end=\"\")\n",
    "            else:\n",
    "                print(p.item)\n",
    "            p = p.next                  # 노드들을 순차탐색.\n",
    "        \n",
    "class EmptyError(Exception):            # underflow시 에러 처리 \n",
    "    pass"
   ]
  },
  {
   "cell_type": "code",
   "execution_count": 2,
   "metadata": {},
   "outputs": [
    {
     "name": "stdout",
     "output_type": "stream",
     "text": [
      "pear ->apple ->orange ->cherry\n"
     ]
    }
   ],
   "source": [
    "s1= SList()\n",
    "s1.insert_front('orange')\n",
    "s1.insert_front('apple')\n",
    "s1.insert_after('cherry',s1.head.next)\n",
    "s1.insert_front('pear')\n",
    "s1.print_list()"
   ]
  },
  {
   "cell_type": "code",
   "execution_count": 5,
   "metadata": {},
   "outputs": [
    {
     "name": "stdout",
     "output_type": "stream",
     "text": [
      "pear ->apple ->orange ->cherry\n",
      "cherry ->orange ->apple ->pear\n"
     ]
    }
   ],
   "source": [
    "def reverse_singly_list(node, s1):\n",
    "    if not node.next:\n",
    "        s1.head.next = None\n",
    "        s1.head = node\n",
    "        return node\n",
    "    \n",
    "    prev_node = reverse_singly_list(node.next, s1)\n",
    "    prev_node.next = node\n",
    "    return node\n",
    "    \n",
    "s1= SList()\n",
    "s1.insert_front('orange')\n",
    "s1.insert_front('apple')\n",
    "s1.insert_after('cherry',s1.head.next)\n",
    "s1.insert_front('pear')\n",
    "s1.print_list()\n",
    "\n",
    "reverse_singly_list(s1.head, s1)\n",
    "s1.print_list()"
   ]
  },
  {
   "cell_type": "code",
   "execution_count": 10,
   "metadata": {},
   "outputs": [],
   "source": [
    "lista = [1,3,4,5,9,10,16,17,19]\n",
    "\n",
    "def get_two_element_what_sum_is_target_value(ar, target_value):\n",
    "    lo = 0\n",
    "    hi = len(ar) - 1\n",
    "    correct_list = []\n",
    "    \n",
    "    while lo <= hi:\n",
    "        if target_value > (ar[lo] + ar[hi]):\n",
    "            lo += 1\n",
    "        elif target_value < (ar[lo] + ar[hi]):\n",
    "            hi -= 1\n",
    "        else:\n",
    "            correct_list.append((ar[lo], ar[hi], ))\n",
    "            hi -= 1\n",
    "    return correct_list"
   ]
  },
  {
   "cell_type": "code",
   "execution_count": 13,
   "metadata": {},
   "outputs": [
    {
     "data": {
      "text/plain": [
       "6"
      ]
     },
     "execution_count": 13,
     "metadata": {},
     "output_type": "execute_result"
    }
   ],
   "source": [
    "def get_duplicated_value(ar):\n",
    "    total1, total2 = 0, 0\n",
    "    for idx, item in enumerate(ar):\n",
    "        total1 += item\n",
    "        total2 += idx\n",
    "    \n",
    "    return total1 - total2\n",
    "\n",
    "ar = [1, 3, 4, 5, 6, 6, 2, 7]\n",
    "get_duplicated_value(ar)"
   ]
  },
  {
   "cell_type": "code",
   "execution_count": 20,
   "metadata": {},
   "outputs": [
    {
     "name": "stdout",
     "output_type": "stream",
     "text": [
      "9\n"
     ]
    }
   ],
   "source": [
    "# i는 반복되는 개수\n",
    "# k는 숫자의 개수\n",
    "\n",
    "def get_only_one_element(ar):\n",
    "    return {ar.count(i): i for i in ar}.get(1)\n",
    "\n",
    "ar  = [4,9,5,4,5,4,5]\n",
    "result = get_only_one_element(ar)\n",
    "print(result)"
   ]
  },
  {
   "cell_type": "code",
   "execution_count": null,
   "metadata": {},
   "outputs": [],
   "source": []
  }
 ],
 "metadata": {
  "kernelspec": {
   "display_name": "Python 3",
   "language": "python",
   "name": "python3"
  },
  "language_info": {
   "codemirror_mode": {
    "name": "ipython",
    "version": 3
   },
   "file_extension": ".py",
   "mimetype": "text/x-python",
   "name": "python",
   "nbconvert_exporter": "python",
   "pygments_lexer": "ipython3",
   "version": "3.7.0"
  }
 },
 "nbformat": 4,
 "nbformat_minor": 2
}
