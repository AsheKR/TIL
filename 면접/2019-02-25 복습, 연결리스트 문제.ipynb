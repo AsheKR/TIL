{
 "cells": [
  {
   "cell_type": "markdown",
   "metadata": {},
   "source": [
    "# Sort"
   ]
  },
  {
   "cell_type": "code",
   "execution_count": null,
   "metadata": {},
   "outputs": [],
   "source": [
    "from unittest import TestCase\n",
    "\n",
    "class SortTest(TestCase):\n",
    "    \n",
    "    def __init__(self, function):\n",
    "        super().__init__()\n",
    "        self.testcase1 = [1, 5, 4, 1, 20, 90, 6, 84, 10]\n",
    "        self.testcase2 = [5, 9, 6, 1, 2, 8, 4, 7, 3]\n",
    "        self.sort_function = function\n",
    "        self.test()\n",
    "        \n",
    "    def test(self):\n",
    "        self.assertEqual(sorted(self.testcase1), self.sort_function(self.testcase1))\n",
    "        self.assertEqual(sorted(self.testcase2), self.sort_function(self.testcase2))\n",
    "        print(\"Success\")"
   ]
  },
  {
   "cell_type": "code",
   "execution_count": null,
   "metadata": {},
   "outputs": [],
   "source": [
    "def quick_sort(ar):\n",
    "    def _quick_sort(ar, start, end):\n",
    "        if start >= end:\n",
    "            return\n",
    "        \n",
    "        pivot = start\n",
    "        i = start + 1\n",
    "        j = end\n",
    "        \n",
    "        while i <= j:\n",
    "            \n",
    "            while i <= end and ar[i] <= ar[pivot]:\n",
    "                i += 1\n",
    "                \n",
    "            while j >= start + 1 and ar[j] >= ar[pivot]:\n",
    "                j -= 1\n",
    "                \n",
    "            if i > j:\n",
    "                ar[pivot], ar[j] = ar[j], ar[pivot]\n",
    "            else:\n",
    "                ar[j], ar[i] = ar[i], ar[j]\n",
    "                \n",
    "        _quick_sort(ar, start , j - 1)\n",
    "        _quick_sort(ar, j + 1, end)\n",
    "        \n",
    "    _quick_sort(ar, 0, len(ar) - 1)\n",
    "    return ar"
   ]
  },
  {
   "cell_type": "code",
   "execution_count": null,
   "metadata": {},
   "outputs": [],
   "source": [
    "SortTest(quick_sort)"
   ]
  },
  {
   "cell_type": "code",
   "execution_count": null,
   "metadata": {},
   "outputs": [],
   "source": [
    "def merge_sort(ar):\n",
    "    if len(ar) <= 1:\n",
    "        return ar\n",
    "    \n",
    "    mid = len(ar) // 2\n",
    "    \n",
    "    left, right = merge_sort(ar[:mid]), merge_sort(ar[mid:])\n",
    "    \n",
    "    return merge(left, right)\n",
    "\n",
    "def merge(left, right):\n",
    "    i, j = 0, 0\n",
    "    sorted_list = []\n",
    "    \n",
    "    while i < len(left) and j < len(right):\n",
    "        \n",
    "        if left[i] < right[j]:\n",
    "            sorted_list.append(left[i])\n",
    "            i += 1\n",
    "        else:\n",
    "            sorted_list.append(right[j])\n",
    "            j += 1\n",
    "    \n",
    "    while i < len(left):\n",
    "        sorted_list.append(left[i])\n",
    "        i += 1\n",
    "        \n",
    "    while j < len(right):\n",
    "        sorted_list.append(right[j])\n",
    "        j += 1\n",
    "        \n",
    "    return sorted_list"
   ]
  },
  {
   "cell_type": "code",
   "execution_count": null,
   "metadata": {},
   "outputs": [],
   "source": [
    "SortTest(merge_sort)"
   ]
  },
  {
   "cell_type": "code",
   "execution_count": null,
   "metadata": {},
   "outputs": [],
   "source": [
    "def bottom_up_heapify(ar, child):\n",
    "    if child == 0:\n",
    "        return\n",
    "    \n",
    "    root = (child - 1) // 2\n",
    "    \n",
    "    if ar[root] < ar[child]:\n",
    "        ar[root], ar[child] = ar[child], ar[root]\n",
    "        \n",
    "    bottom_up_heapify(ar, root)\n",
    "\n",
    "def top_down_heapify(ar, root, end):\n",
    "    n = len(ar) // 2 - 1\n",
    "    if n < root:\n",
    "        return\n",
    "    \n",
    "    child = root * 2 + 1\n",
    "    \n",
    "    if end <= child + 1:\n",
    "        return\n",
    "    \n",
    "    if child < len(ar) - 2 and ar[child] < ar[child + 1]:\n",
    "        child += 1\n",
    "        \n",
    "    if ar[root] < ar[child]:\n",
    "        ar[root], ar[child] = ar[child], ar[root]\n",
    "        \n",
    "    top_down_heapify(ar, child, end)\n",
    "\n",
    "def heap_sort(ar):\n",
    "    \n",
    "    for i in range(1, len(ar)):\n",
    "        bottom_up_heapify(ar, i)\n",
    "        \n",
    "    for i in range(len(ar) - 1, -1, -1):\n",
    "        ar[0], ar[i] = ar[i], ar[0]\n",
    "        top_down_heapify(ar, 0, i)\n",
    "\n",
    "    return ar"
   ]
  },
  {
   "cell_type": "code",
   "execution_count": null,
   "metadata": {},
   "outputs": [],
   "source": [
    "SortTest(heap_sort)"
   ]
  },
  {
   "cell_type": "code",
   "execution_count": null,
   "metadata": {},
   "outputs": [],
   "source": [
    "graph = {\n",
    "    '1': ['2', '3'],\n",
    "    '2': ['1', '3', '4', '5'],\n",
    "    '3': ['1', '2', '6', '7'],\n",
    "    '4': ['2', '5'],\n",
    "    '5': ['2', '4'],\n",
    "    '6': ['3', '7'],\n",
    "    '7': ['3', '6'],\n",
    "}\n",
    "\n",
    "def bfs(graph, queue, visited):\n",
    "    if not queue:\n",
    "        return visited\n",
    "    \n",
    "    n = queue.pop(0)\n",
    "    visited.append(n)\n",
    "    \n",
    "    for i in graph[n]:\n",
    "        if i not in queue and i not in visited:\n",
    "            queue.append(i)\n",
    "    \n",
    "    return bfs(graph, queue, visited)\n",
    "\n",
    "bfs(graph, ['1'], [])"
   ]
  },
  {
   "cell_type": "code",
   "execution_count": null,
   "metadata": {},
   "outputs": [],
   "source": [
    "graph = {\n",
    "    '1': ['2', '3'],\n",
    "    '2': ['1', '3', '4', '5'],\n",
    "    '3': ['1', '2', '6', '7'],\n",
    "    '4': ['2', '5'],\n",
    "    '5': ['2', '4'],\n",
    "    '6': ['3', '7'],\n",
    "    '7': ['3', '6'],\n",
    "}\n",
    "\n",
    "def dfs(graph, node, visited):\n",
    "    if node not in visited:\n",
    "        visited.append(node)\n",
    "        for i in graph[node]:\n",
    "            dfs(graph, i, visited)\n",
    "            \n",
    "    return visited\n",
    "\n",
    "dfs(graph, '1', [])"
   ]
  },
  {
   "cell_type": "code",
   "execution_count": null,
   "metadata": {},
   "outputs": [],
   "source": [
    "l = [i for i in range(0, 8)]\n",
    "\n",
    "def getParent(parent, item):\n",
    "    if parent[item] == item:\n",
    "        return item\n",
    "    return getParent(parent, parent[item])\n",
    "\n",
    "def unionParent(parent, a, b):\n",
    "    a = getParent(parent, a)\n",
    "    b = getParent(parent, b)\n",
    "    if a < b:\n",
    "        parent[b] = a\n",
    "    else:\n",
    "        parent[a] = b\n",
    "\n",
    "# 부모가 같은지 확인\n",
    "def findParent(parent, a, b):\n",
    "    a = getParent(parent, a)\n",
    "    b = getParent(parent, b)\n",
    "    if a == b:\n",
    "        return True\n",
    "    else:\n",
    "        return False\n",
    "    \n",
    "unionParent(l, 1, 2)\n",
    "unionParent(l, 2, 3)\n",
    "unionParent(l, 3, 4)\n",
    "unionParent(l, 5, 6)\n",
    "unionParent(l, 6, 7)\n",
    "\n",
    "print(findParent(l, 1, 5))\n",
    "unionParent(l, 2, 5)\n",
    "print(findParent(l, 1, 5))"
   ]
  },
  {
   "cell_type": "code",
   "execution_count": null,
   "metadata": {},
   "outputs": [],
   "source": [
    "l = [i for i in range(0, 8)]\n",
    "\n",
    "graph = {\n",
    "    '12': [1, 7],\n",
    "    '13': [4, 7],\n",
    "    '17': [1, 5],\n",
    "    '20': [3, 5],\n",
    "    '24': [2, 4],\n",
    "    '28': [1, 4],\n",
    "    '37': [3, 6],\n",
    "    '45': [5, 6],\n",
    "    '62': [2, 5],\n",
    "    '67': [1, 2],\n",
    "    '73': [5, 7],\n",
    "}\n",
    "\n",
    "v = 0\n",
    "\n",
    "for i in sorted(graph, key=lambda x: x[0]):\n",
    "    if not findParent(l, graph[i][0], graph[i][1]):\n",
    "        unionParent(l, graph[i][0], graph[i][1])\n",
    "        v += int(i)\n",
    "        \n",
    "print(v)"
   ]
  },
  {
   "cell_type": "code",
   "execution_count": null,
   "metadata": {},
   "outputs": [],
   "source": [
    "l = [i for i in range(100000)]\n",
    "\n",
    "for i in range(2, len(l)):\n",
    "    if l[i] == 0:\n",
    "        continue\n",
    "    for j in range(i + i, len(l), i):\n",
    "        l[j] = 0\n",
    "\n",
    "for i in range(1, len(l)):\n",
    "    if l[i] != 0:\n",
    "        print(i)"
   ]
  },
  {
   "cell_type": "markdown",
   "metadata": {},
   "source": [
    "# 문제"
   ]
  },
  {
   "cell_type": "markdown",
   "metadata": {},
   "source": [
    "## 연결리스트"
   ]
  },
  {
   "cell_type": "markdown",
   "metadata": {},
   "source": [
    "#### 중복 없애기\n",
    "정렬되지 않은 연결리스트가 주어졌을 때 중복되는 원소를 제거하는 코드를 작성하자."
   ]
  },
  {
   "cell_type": "code",
   "execution_count": 16,
   "metadata": {},
   "outputs": [],
   "source": [
    "class Node:\n",
    "    def __init__(self, data, n):\n",
    "        self.data = data\n",
    "        self.n = n\n",
    "        \n",
    "def print_all(head):\n",
    "    print(head.data, end=' -> ')\n",
    "    if head.n == None:\n",
    "        print('')\n",
    "        return\n",
    "    return print_all(head.n)"
   ]
  },
  {
   "cell_type": "code",
   "execution_count": 17,
   "metadata": {
    "scrolled": true
   },
   "outputs": [
    {
     "name": "stdout",
     "output_type": "stream",
     "text": [
      "1 -> 1 -> 3 -> \n",
      "1 -> 3 -> \n"
     ]
    }
   ],
   "source": [
    "def unique_node(head, pre, buffer):\n",
    "    if head.n == None:\n",
    "        return\n",
    "    \n",
    "    if head.data in buffer:\n",
    "        pre.n = head.n\n",
    "    else:\n",
    "        buffer.append(head.data)\n",
    "    \n",
    "    return unique_node(head.n, head, buffer)\n",
    "\n",
    "n3 = Node(3, None)\n",
    "n2 = Node(1, n3)\n",
    "n1 = Node(1, n2)\n",
    "\n",
    "print_all(n1)\n",
    "unique_node(n1, None, [])\n",
    "print_all(n1)"
   ]
  },
  {
   "cell_type": "markdown",
   "metadata": {},
   "source": [
    "#### 임시 버퍼를 사용하지 않고"
   ]
  },
  {
   "cell_type": "code",
   "execution_count": 38,
   "metadata": {
    "scrolled": true
   },
   "outputs": [
    {
     "name": "stdout",
     "output_type": "stream",
     "text": [
      "3 -> 2 -> 3 -> \n",
      "3 -> 2 -> \n"
     ]
    }
   ],
   "source": [
    "def unique_node(head):\n",
    "    while head != None:\n",
    "        cursor = head\n",
    "        \n",
    "        while cursor.n != None:\n",
    "            if head.data == cursor.n.data:\n",
    "                cursor.n = cursor.n.n\n",
    "            else:\n",
    "                cursor = cursor.n\n",
    "        head = head.n\n",
    "\n",
    "n3 = Node(3, None)\n",
    "n2 = Node(2, n3)\n",
    "n1 = Node(3, n2)\n",
    "\n",
    "print_all(n1)\n",
    "unique_node(n1)\n",
    "print_all(n1)"
   ]
  },
  {
   "cell_type": "markdown",
   "metadata": {},
   "source": [
    "### 뒤에서부터 K번째 원소 찾기"
   ]
  },
  {
   "cell_type": "code",
   "execution_count": 47,
   "metadata": {},
   "outputs": [],
   "source": [
    "def findk(n, k, i):\n",
    "    if n == None:\n",
    "        return None\n",
    "    nd = findk(n.n, k, i)\n",
    "    i[0] += 1\n",
    "    if i[0] == k:\n",
    "        return n\n",
    "    return nd"
   ]
  },
  {
   "cell_type": "code",
   "execution_count": 52,
   "metadata": {},
   "outputs": [
    {
     "name": "stdout",
     "output_type": "stream",
     "text": [
      "1\n"
     ]
    }
   ],
   "source": [
    "n3 = Node(3, None)\n",
    "n2 = Node(2, n3)\n",
    "n1 = Node(1, n2)\n",
    "\n",
    "print(findk(n1, 3, [0, ]))"
   ]
  },
  {
   "cell_type": "markdown",
   "metadata": {},
   "source": [
    "#### 순환적 방법"
   ]
  },
  {
   "cell_type": "code",
   "execution_count": 60,
   "metadata": {},
   "outputs": [],
   "source": [
    "def findk(n, k):\n",
    "    p1 = n\n",
    "    p2 = n\n",
    "    \n",
    "    # K번째로 이동\n",
    "    for i in range(k):\n",
    "        if p1 == None:\n",
    "            return None\n",
    "        p1 = p1.n\n",
    "        \n",
    "    while p1 != None:\n",
    "        p1 = p1.n\n",
    "        p2 = p2.n\n",
    "        \n",
    "    return p2"
   ]
  },
  {
   "cell_type": "code",
   "execution_count": 64,
   "metadata": {},
   "outputs": [
    {
     "name": "stdout",
     "output_type": "stream",
     "text": [
      "1\n"
     ]
    }
   ],
   "source": [
    "n3 = Node(3, None)\n",
    "n2 = Node(2, n3)\n",
    "n1 = Node(1, n2)\n",
    "\n",
    "print(findk(n1, 3).data)"
   ]
  },
  {
   "cell_type": "markdown",
   "metadata": {},
   "source": [
    "### 중간 노드 삭제\n",
    "\n",
    "삭제할 노드에만 접근 가능"
   ]
  },
  {
   "cell_type": "code",
   "execution_count": 81,
   "metadata": {},
   "outputs": [],
   "source": [
    "def delete_node(n):\n",
    "    if n.n == None:\n",
    "        return False\n",
    "    n.data = n.n.data\n",
    "    n.n = n.n.n"
   ]
  },
  {
   "cell_type": "code",
   "execution_count": 85,
   "metadata": {},
   "outputs": [
    {
     "name": "stdout",
     "output_type": "stream",
     "text": [
      "1 -> 2 -> 3 -> 4 -> 5 -> \n",
      "1 -> 2 -> 3 -> 5 -> \n"
     ]
    }
   ],
   "source": [
    "n5 = Node(5, None)\n",
    "n4 = Node(4, n5)\n",
    "n3 = Node(3, n4)\n",
    "n2 = Node(2, n3)\n",
    "n1 = Node(1, n2)\n",
    "\n",
    "print_all(n1)\n",
    "delete_node(n4)\n",
    "print_all(n1)"
   ]
  },
  {
   "cell_type": "code",
   "execution_count": null,
   "metadata": {},
   "outputs": [],
   "source": []
  }
 ],
 "metadata": {
  "kernelspec": {
   "display_name": "Python 3",
   "language": "python",
   "name": "python3"
  },
  "language_info": {
   "codemirror_mode": {
    "name": "ipython",
    "version": 3
   },
   "file_extension": ".py",
   "mimetype": "text/x-python",
   "name": "python",
   "nbconvert_exporter": "python",
   "pygments_lexer": "ipython3",
   "version": "3.7.0"
  }
 },
 "nbformat": 4,
 "nbformat_minor": 2
}
