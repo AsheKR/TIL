{
 "cells": [
  {
   "cell_type": "code",
   "execution_count": null,
   "metadata": {},
   "outputs": [],
   "source": [
    "from unittest import TestCase\n",
    "\n",
    "class SortTest(TestCase):\n",
    "    \n",
    "    def __init__(self, f):\n",
    "        super().__init__()\n",
    "        self.testcase1 = [1, 5, 4, 1, 20, 90, 6, 84, 10]\n",
    "        self.testcase2 = [5, 9, 6, 1, 2, 8, 4, 7, 3]\n",
    "        self.f = f\n",
    "        self.test()\n",
    "        \n",
    "    def test(self):\n",
    "        self.assertEqual(sorted(self.testcase1), self.f(self.testcase1))\n",
    "        self.assertEqual(sorted(self.testcase2), self.f(self.testcase2))\n",
    "        print(\"Success\")"
   ]
  },
  {
   "cell_type": "markdown",
   "metadata": {},
   "source": [
    "# 정렬"
   ]
  },
  {
   "cell_type": "code",
   "execution_count": null,
   "metadata": {},
   "outputs": [],
   "source": [
    "def quick_sort(ar):\n",
    "    def _quick_sort(ar, start, end):\n",
    "        if start >= end:\n",
    "            return\n",
    "        \n",
    "        pivot = start\n",
    "        i = start + 1\n",
    "        j = end\n",
    "        \n",
    "        while i <= j:\n",
    "            \n",
    "            while i <= end and ar[i] <= ar[pivot]:\n",
    "                i += 1\n",
    "                \n",
    "            while j >= start + 1 and ar[j] >= ar[pivot]:\n",
    "                j -= 1\n",
    "                \n",
    "            if i > j:\n",
    "                ar[pivot], ar[j] = ar[j], ar[pivot]\n",
    "            else:\n",
    "                ar[i], ar[j] = ar[j], ar[i]\n",
    "                \n",
    "        _quick_sort(ar, start, j - 1)\n",
    "        _quick_sort(ar, j + 1, end)\n",
    "        \n",
    "    _quick_sort(ar, 0, len(ar) - 1)\n",
    "    return ar"
   ]
  },
  {
   "cell_type": "code",
   "execution_count": null,
   "metadata": {
    "scrolled": true
   },
   "outputs": [],
   "source": [
    "SortTest(quick_sort)"
   ]
  },
  {
   "cell_type": "code",
   "execution_count": null,
   "metadata": {},
   "outputs": [],
   "source": [
    "def qsort(ar):\n",
    "    if len(ar) <= 1:\n",
    "        return ar\n",
    "    \n",
    "    pivot = ar[0]\n",
    "    \n",
    "    head = qsort([elem for elem in ar if elem < pivot])\n",
    "    tail = qsort([elem for elem in ar if elem > pivot])\n",
    "    \n",
    "    return head + [elem for elem in ar if elem == pivot] + tail"
   ]
  },
  {
   "cell_type": "code",
   "execution_count": null,
   "metadata": {},
   "outputs": [],
   "source": [
    "SortTest(quick_sort)"
   ]
  },
  {
   "cell_type": "code",
   "execution_count": null,
   "metadata": {},
   "outputs": [],
   "source": [
    "def merge(left, right):\n",
    "    i, j = 0, 0\n",
    "    sorted_list = []\n",
    "    \n",
    "    while i < len(left) and j < len(right):\n",
    "        \n",
    "        if left[i] < right[j]:\n",
    "            sorted_list.append(left[i])\n",
    "            i += 1\n",
    "        else:\n",
    "            sorted_list.append(right[j])\n",
    "            j += 1\n",
    "    \n",
    "    while i < len(left):\n",
    "        sorted_list.append(left[i])\n",
    "        i += 1\n",
    "    while j < len(right):\n",
    "        sorted_list.append(right[j])\n",
    "        j += 1\n",
    "        \n",
    "    return sorted_list\n",
    "        \n",
    "\n",
    "def merge_sort(ar):\n",
    "    if len(ar) <= 1:\n",
    "        return ar\n",
    "    \n",
    "    mid = len(ar) // 2\n",
    "    \n",
    "    left, right = merge_sort(ar[:mid]), merge_sort(ar[mid:])\n",
    "    \n",
    "    return merge(left, right)"
   ]
  },
  {
   "cell_type": "code",
   "execution_count": null,
   "metadata": {},
   "outputs": [],
   "source": [
    "SortTest(merge_sort)"
   ]
  },
  {
   "cell_type": "code",
   "execution_count": null,
   "metadata": {},
   "outputs": [],
   "source": [
    "def bottom_up_heapify(ar, child):\n",
    "    if child == 0:\n",
    "        return\n",
    "    \n",
    "    root = (child - 1) // 2\n",
    "    \n",
    "    if ar[root] < ar[child]:\n",
    "        ar[root], ar[child] = ar[child], ar[root]\n",
    "        \n",
    "    bottom_up_heapify(ar, root)\n",
    "\n",
    "def top_down_heapify(ar, root, end):\n",
    "    n = len(ar) // 2 - 1\n",
    "    if n < root:\n",
    "        return\n",
    "    \n",
    "    child = root * 2 + 1\n",
    "    \n",
    "    if child + 1 >= end:\n",
    "        return\n",
    "    \n",
    "    if child < len(ar) - 2 and ar[child] < ar[child + 1]:\n",
    "        child += 1\n",
    "        \n",
    "    if ar[root] < ar[child]:\n",
    "        ar[child], ar[root] = ar[root], ar[child]\n",
    "        \n",
    "    top_down_heapify(ar, child, end)\n",
    "    \n",
    "\n",
    "def heap_sort(ar):\n",
    "    for i in range((len(ar) - 1) // 2, -1, -1):\n",
    "        top_down_heapify(ar, i, len(ar))\n",
    "        \n",
    "    for i in range(len(ar) - 1, -1, -1):\n",
    "        ar[i], ar[0] = ar[0], ar[i]\n",
    "        \n",
    "        top_down_heapify(ar, 0, i)\n",
    "        \n",
    "    return ar"
   ]
  },
  {
   "cell_type": "code",
   "execution_count": null,
   "metadata": {},
   "outputs": [],
   "source": [
    "SortTest(heap_sort)"
   ]
  },
  {
   "cell_type": "markdown",
   "metadata": {},
   "source": [
    "# 정렬"
   ]
  },
  {
   "cell_type": "code",
   "execution_count": null,
   "metadata": {
    "scrolled": true
   },
   "outputs": [],
   "source": [
    "read = input\n",
    "\n",
    "bucket = [set() for _ in range(51)]\n",
    "\n",
    "for i in range(int(read(''))):\n",
    "    word = read('')\n",
    "    bucket[len(word)].add(word)\n",
    "    \n",
    "for x in bucket:\n",
    "    for y in sorted(x):\n",
    "        print(y)"
   ]
  },
  {
   "cell_type": "code",
   "execution_count": null,
   "metadata": {},
   "outputs": [],
   "source": [
    "read = input\n",
    "l = []\n",
    "\n",
    "for i in range(int(read(''))):\n",
    "    word = read('')\n",
    "    s = 0\n",
    "    for j in word:\n",
    "        try:\n",
    "            s += int(j)\n",
    "        except:\n",
    "            pass\n",
    "    l.append((len(word), s, word))\n",
    "    \n",
    "for i in sorted(l):\n",
    "    print(i[2])"
   ]
  },
  {
   "cell_type": "code",
   "execution_count": null,
   "metadata": {},
   "outputs": [],
   "source": [
    "import sys\n",
    "\n",
    "read = input\n",
    "l = [0] * 10001\n",
    "\n",
    "for i in range(int(read(''))):\n",
    "    word = read('')\n",
    "    l[int(word)] += 1\n",
    "    \n",
    "for i in range(len(l)):\n",
    "    if l[i] != 0:\n",
    "        for j in range(l[i]):\n",
    "            print(i)"
   ]
  },
  {
   "cell_type": "markdown",
   "metadata": {},
   "source": [
    "# BFS"
   ]
  },
  {
   "cell_type": "code",
   "execution_count": null,
   "metadata": {},
   "outputs": [],
   "source": [
    "graph = {\n",
    "    '1': ['2', '3'],\n",
    "    '2': ['1', '3', '4', '5'],\n",
    "    '3': ['1', '2', '6', '7'],\n",
    "    '4': ['2', '5'],\n",
    "    '5': ['2', '4'],\n",
    "    '6': ['3', '7'],\n",
    "    '7': ['3', '6'],\n",
    "}"
   ]
  },
  {
   "cell_type": "code",
   "execution_count": null,
   "metadata": {},
   "outputs": [],
   "source": [
    "def bfs(graph, start):\n",
    "    queue = [start]\n",
    "    visited = []\n",
    "    \n",
    "    while queue:\n",
    "        n = queue.pop(0)\n",
    "        visited.append(n)\n",
    "        \n",
    "        for i in graph[n]:\n",
    "            if i not in visited and i not in queue:\n",
    "                queue.append(i)\n",
    "                \n",
    "    return visited\n",
    "\n",
    "bfs(graph, '1')"
   ]
  },
  {
   "cell_type": "code",
   "execution_count": null,
   "metadata": {},
   "outputs": [],
   "source": [
    "visited = []\n",
    "\n",
    "def bfs(graph, queue):\n",
    "    global visited\n",
    "    if not queue:\n",
    "        return\n",
    "    \n",
    "    n = queue.pop(0)\n",
    "    visited.append(n)\n",
    "    \n",
    "    for i in graph[n]:\n",
    "        if i not in visited and i not in queue:\n",
    "            queue.append(i)\n",
    "            \n",
    "    bfs(graph, queue)\n",
    "    \n",
    "bfs(graph, ['1'])\n",
    "print(visited)"
   ]
  },
  {
   "cell_type": "code",
   "execution_count": null,
   "metadata": {},
   "outputs": [],
   "source": [
    "def dfs(graph, node, visited):\n",
    "    if node not in visited:\n",
    "        visited.append(node)\n",
    "        for n in graph[node]:\n",
    "            dfs(graph, n, visited)\n",
    "    return visited\n",
    "\n",
    "dfs(graph, '1', [])"
   ]
  },
  {
   "cell_type": "markdown",
   "metadata": {},
   "source": [
    "# Union Find"
   ]
  },
  {
   "cell_type": "code",
   "execution_count": null,
   "metadata": {},
   "outputs": [],
   "source": [
    "# 부모 가져오기\n",
    "def getParent(parent, node):\n",
    "    if parent[node] == node:\n",
    "        return node\n",
    "    return getParent(parent, parent[node])\n",
    "\n",
    "# 부모 노드 합치기\n",
    "def unionParent(parent, a, b):\n",
    "    a = getParent(parent, a)\n",
    "    b = getParent(parent, b)\n",
    "    \n",
    "    # 큰쪽에 부모 노드 놓기\n",
    "    if a < b:\n",
    "        parent[b] = a\n",
    "    else:\n",
    "        parent[a] = b\n",
    "\n",
    "# 같은 부모 노드를 가지는지 확인\n",
    "def findParent(parent, a, b):\n",
    "    a = getParent(parent, a)\n",
    "    b = getParent(parent, b)\n",
    "    if a == b:\n",
    "        return True\n",
    "    else:\n",
    "        return False"
   ]
  },
  {
   "cell_type": "code",
   "execution_count": null,
   "metadata": {},
   "outputs": [],
   "source": [
    "parent = [i for i in range(0, 11)]\n",
    "\n",
    "unionParent(parent, 1, 2)\n",
    "unionParent(parent, 2, 3)\n",
    "unionParent(parent, 3, 4)\n",
    "unionParent(parent, 5, 6)\n",
    "unionParent(parent, 6, 7)\n",
    "unionParent(parent, 7, 8)\n",
    "\n",
    "print(findParent(parent, 1, 5))\n",
    "unionParent(parent, 1, 5)\n",
    "print(findParent(parent, 1, 5))"
   ]
  },
  {
   "cell_type": "markdown",
   "metadata": {},
   "source": [
    "# 크루스칼 알고리즘"
   ]
  },
  {
   "cell_type": "code",
   "execution_count": null,
   "metadata": {},
   "outputs": [],
   "source": [
    "graph = {\n",
    "    '12': [1, 7],\n",
    "    '13': [4, 7],\n",
    "    '17': [1, 5],\n",
    "    '20': [3, 5],\n",
    "    '24': [2, 4],\n",
    "    '28': [1, 4],\n",
    "    '37': [3, 6],\n",
    "    '45': [5, 6],\n",
    "    '62': [2, 5],\n",
    "    '67': [1, 2],\n",
    "    '73': [5, 7],\n",
    "}\n",
    "\n",
    "a = sorted(graph, key=lambda x: x[0])\n",
    "print(a)"
   ]
  },
  {
   "cell_type": "code",
   "execution_count": null,
   "metadata": {},
   "outputs": [],
   "source": [
    "l = [i for i in range(0, 8)]\n",
    "\n",
    "def getParent(parent, node):\n",
    "    if parent[node] == node:\n",
    "        return node\n",
    "    return getParent(parent, parent[node])\n",
    "\n",
    "def unionParent(parent, a, b):\n",
    "    a = getParent(parent, a)\n",
    "    b = getParent(parent, b)\n",
    "    if a < b: \n",
    "        parent[b] = a\n",
    "    else:\n",
    "        parent[a] = b\n",
    "        \n",
    "def findParent(parent, a, b):\n",
    "    if getParent(parent, a) == getParent(parent, b):\n",
    "        return True\n",
    "    else:\n",
    "        return False\n",
    "    \n",
    "def kruskal(graph):\n",
    "    distance = 0\n",
    "    for key in sorted(graph, key=lambda x: x[0]):\n",
    "        if not findParent(l, graph[key][0], graph[key][1]):\n",
    "            distance += int(key)\n",
    "            unionParent(l, graph[key][0], graph[key][1])\n",
    "            \n",
    "    return distance"
   ]
  },
  {
   "cell_type": "code",
   "execution_count": null,
   "metadata": {},
   "outputs": [],
   "source": [
    "kruskal(graph)"
   ]
  },
  {
   "cell_type": "code",
   "execution_count": null,
   "metadata": {},
   "outputs": [],
   "source": [
    "class Tree:\n",
    "    def __init__(self, data=None, left=None, right=None):\n",
    "        self.data = data\n",
    "        self.left = left\n",
    "        self.right = right\n",
    "        \n",
    "    def __repr__(self):\n",
    "        s = str(self.data) + ':: left: ' + str(getattr(getattr(self, 'left', ''), 'data', '')) + '  right: ' + str(getattr(getattr(self, 'right', ''), 'data', '')) + '\\n'\n",
    "        return s\n",
    "        \n",
    "        \n",
    "tree_node_number = 20\n",
    "tree_node = [Tree(data=tree) for tree in range(tree_node_number)]\n",
    "\n",
    "for i in range(1, tree_node_number):\n",
    "    if i % 2 == 0:\n",
    "        tree_node[(i - 1) // 2 ].left = tree_node[i]\n",
    "    else:\n",
    "        tree_node[(i - 1) // 2].right = tree_node[i]\n",
    "        \n",
    "def preorder(tree):\n",
    "    if not tree:\n",
    "        return\n",
    "    print(tree.data)\n",
    "    preorder(tree.left)\n",
    "    preorder(tree.right)"
   ]
  },
  {
   "cell_type": "code",
   "execution_count": null,
   "metadata": {},
   "outputs": [],
   "source": [
    "preorder(tree_node[0])"
   ]
  },
  {
   "cell_type": "markdown",
   "metadata": {},
   "source": [
    "# Dynamic Programming\n",
    "\n",
    "하나의 문제는 단 한번만 풀도록하는 알고리즘\n",
    "문제의 규칙을 찾아 점화식을 찾는 것이 목표"
   ]
  },
  {
   "cell_type": "code",
   "execution_count": null,
   "metadata": {},
   "outputs": [],
   "source": [
    "def fibo(n):\n",
    "    if n == 1: return 1\n",
    "    if n == 2: return 1\n",
    "    return fibo(n - 2) + fibo(n - 1)\n",
    "\n",
    "print(fibo(10))"
   ]
  },
  {
   "cell_type": "code",
   "execution_count": null,
   "metadata": {},
   "outputs": [],
   "source": [
    "memo = [0] * 100\n",
    "\n",
    "def fibo(n):\n",
    "    if n == 1: return 1\n",
    "    if n == 2: return 1\n",
    "    if memo[n] != 0: return memo[n]\n",
    "    memo[n] = fibo(n - 2) + fibo(n - 1)\n",
    "    return memo[n]\n",
    "\n",
    "print(fibo(10))"
   ]
  },
  {
   "cell_type": "markdown",
   "metadata": {},
   "source": [
    "## 타일링 1\n",
    "\n",
    "2 x n의 직사각형을 1x2, 2x1 타일로 채우는 방법의 수를 구하라."
   ]
  },
  {
   "cell_type": "code",
   "execution_count": null,
   "metadata": {},
   "outputs": [],
   "source": [
    "memo = [0] * 1001\n",
    "\n",
    "read = input\n",
    "\n",
    "n = int(read(''))\n",
    "\n",
    "def tile1(n):\n",
    "    if n == 1: return 1\n",
    "    if n == 2: return 2\n",
    "    if memo[n] != 0: return memo[n]\n",
    "    memo[n] = (tile1(n - 2) + tile1(n - 1)) % 10007\n",
    "    return memo[n]\n",
    "\n",
    "print(tile1(n))"
   ]
  },
  {
   "cell_type": "markdown",
   "metadata": {},
   "source": [
    "## 타일링 2\n",
    "2xn의 직사각형을 2x1, 2x2의 타일로 채우는 방법의 수를 구하자"
   ]
  },
  {
   "cell_type": "code",
   "execution_count": null,
   "metadata": {},
   "outputs": [],
   "source": [
    "memo = [0] * 1001\n",
    "\n",
    "read = input\n",
    "\n",
    "n = int(read(''))\n",
    "\n",
    "def tile2(n):\n",
    "    print(memo[:10])\n",
    "    if n == 1: return 1\n",
    "    if n == 2: return 2\n",
    "    if memo[n] != 0: return memo[n]\n",
    "    memo[n] = (tile2(n - 2) + tile2(n - 1)) % 10007\n",
    "    return memo[n]\n",
    "\n",
    "print(tile2(n))"
   ]
  },
  {
   "cell_type": "markdown",
   "metadata": {},
   "source": [
    "## 백준 저지 랭작"
   ]
  },
  {
   "cell_type": "markdown",
   "metadata": {},
   "source": [
    "## 달력문제\n",
    "\n",
    "x - 1월까지의 날짜와 추가적인 날짜를 더하여 7로 나머지연산을 하면 요일을 구할 수 있다.\n",
    "외의 방법에 월별 시작 요일을 리스트로 두고 day를 더하여 나머지연산을 수행하여 요일을 구하는 방법이 있었다.."
   ]
  },
  {
   "cell_type": "code",
   "execution_count": null,
   "metadata": {},
   "outputs": [],
   "source": [
    "x, y = map(int, input().split())\n",
    "\n",
    "dotw = ['MON', 'TUE', 'WED', 'THU', 'FRI', 'SAT', 'SUN']\n",
    "day = [31, 28, 31, 30, 31, 30, 31, 31, 30, 31, 30, 31]\n",
    "\n",
    "s = y\n",
    "for i in range(x - 1):\n",
    "    s += day[i]\n",
    "    \n",
    "print(dotw[s % 7 - 1])"
   ]
  },
  {
   "cell_type": "markdown",
   "metadata": {},
   "source": [
    "## 설탕 배달\n",
    "\n",
    "X만큼의 수를 5또는 3으로 만들때 최소 몇번의 수를 사용하면되는가\n",
    "\n",
    "5를 빼가며 X를 계산해야겠다는 생각은 들었지만, 그 외의 생각은 들지 않았다..\n",
    "\n",
    "\n",
    "X를 0으로 만들기위해 수를 빼갈 때 5의 배수 또는 3의 배수가 나와야한다.\n",
    "그렇지않으면 5와 3으로 만들 수 없는 수이다."
   ]
  },
  {
   "cell_type": "code",
   "execution_count": 15,
   "metadata": {},
   "outputs": [
    {
     "name": "stdout",
     "output_type": "stream",
     "text": [
      "18\n",
      "4\n"
     ]
    }
   ],
   "source": [
    "n = int(input())\n",
    "\n",
    "count = 0\n",
    "\n",
    "while n > 0:\n",
    "    if n % 5 == 0:\n",
    "        count += 1\n",
    "        n -= 5\n",
    "    elif n % 3 == 0:\n",
    "        count += 1\n",
    "        n -= 3\n",
    "    elif n > 5:\n",
    "        count += 1\n",
    "        n -= 5\n",
    "    else:\n",
    "        count = -1\n",
    "        n = 0\n",
    "        \n",
    "print(count)"
   ]
  },
  {
   "cell_type": "markdown",
   "metadata": {},
   "source": [
    "## 더하기 사이클\n",
    "\n",
    "N이 한자리수일경우 앞에 0을 붙여 계산\n",
    "\n",
    "N = 26\n",
    "2 + 6 = 8 :: N = 68\n",
    "6 + 8 = 14 :: N = 84\n",
    "8 + 4 = 12 :: N = 42\n",
    "4 + 2 = 6 :: N = 26\n",
    "\n",
    "Count는 총 4\n",
    "\n",
    "두자리수 계산이 확실하므로 `%`, `/` 연산자를 사용하여 첫번째 자리수, 두번째 자리수를 구별해 낼 수 있다.\n",
    "또한 계산 결과의 뒤값만 필요하므로 `% 10` 연산을 통해 구해낸다."
   ]
  },
  {
   "cell_type": "code",
   "execution_count": 24,
   "metadata": {},
   "outputs": [
    {
     "name": "stdout",
     "output_type": "stream",
     "text": [
      "1\n",
      "60\n"
     ]
    }
   ],
   "source": [
    "n = int(input())\n",
    "\n",
    "add = n\n",
    "count = 0\n",
    "\n",
    "while add != n or count == 0:\n",
    "    a = add // 10\n",
    "    b = add % 10\n",
    "    c = (a + b) % 10\n",
    "    add = b*10 + c\n",
    "    count += 1\n",
    "    \n",
    "print(count)"
   ]
  },
  {
   "cell_type": "code",
   "execution_count": null,
   "metadata": {},
   "outputs": [],
   "source": []
  }
 ],
 "metadata": {
  "kernelspec": {
   "display_name": "Python 3",
   "language": "python",
   "name": "python3"
  },
  "language_info": {
   "codemirror_mode": {
    "name": "ipython",
    "version": 3
   },
   "file_extension": ".py",
   "mimetype": "text/x-python",
   "name": "python",
   "nbconvert_exporter": "python",
   "pygments_lexer": "ipython3",
   "version": "3.7.0"
  }
 },
 "nbformat": 4,
 "nbformat_minor": 2
}
